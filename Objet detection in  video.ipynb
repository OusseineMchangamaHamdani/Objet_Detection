{
 "cells": [
  {
   "cell_type": "code",
   "execution_count": 1,
   "id": "68719d1f-4a36-4916-97af-7ab4644e2849",
   "metadata": {},
   "outputs": [],
   "source": [
    "import torch\n",
    "import cv2\n",
    "from torchvision.models.detection import fasterrcnn_resnet50_fpn\n",
    "from torchvision.models import efficientnet_b0\n",
    "from torchvision.transforms import functional as F"
   ]
  },
  {
   "cell_type": "markdown",
   "id": "0631b3a9",
   "metadata": {},
   "source": [
    "# **ResNet-50 Modele backbone**"
   ]
  },
  {
   "cell_type": "code",
   "execution_count": 2,
   "id": "351ece72-0e87-48a7-90b4-f94aa684f489",
   "metadata": {},
   "outputs": [
    {
     "name": "stdout",
     "output_type": "stream",
     "text": [
      "Modèle avec Eesnet50 comme backbone chargé avec succès.\n"
     ]
    }
   ],
   "source": [
    "# Charger le modèle Faster R-CNN avec ResNet-50 comme backbone\n",
    "model = fasterrcnn_resnet50_fpn(pretrained=True,weights='DEFAULT')\n",
    "model.eval()  # Mettre le modèle en mode évaluation\n",
    "print(\"Modèle avec Eesnet50 comme backbone chargé avec succès.\")"
   ]
  },
  {
   "cell_type": "code",
   "execution_count": 3,
   "id": "c0ee8988-261b-4761-97f5-e9799e2f3e3f",
   "metadata": {},
   "outputs": [],
   "source": [
    "def draw_boxes(image, boxes, labels, scores, threshold=0.5):\n",
    "    for i in range(len(boxes)):\n",
    "        if scores[i] > threshold:\n",
    "            box = boxes[i]\n",
    "            x1, y1, x2, y2 = map(int, box)\n",
    "            cv2.rectangle(image, (x1, y1), (x2, y2), (0, 255, 0), 2)\n",
    "            label = f\"{labels[i]}: {scores[i]:.2f}\"\n",
    "            cv2.putText(image, label, (x1, y1 - 10), cv2.FONT_HERSHEY_SIMPLEX, 0.5, (0, 255, 0), 2)\n",
    "    return image"
   ]
  },
  {
   "cell_type": "code",
   "execution_count": 4,
   "id": "29c10e85-7de6-4938-ab2c-642597868770",
   "metadata": {},
   "outputs": [],
   "source": [
    "# Charger la vidéo d'entrée\n",
    "input_video_path = './Video_test/test_04.mp4'\n",
    "output_video_path = 'output_test_04.mp4'\n",
    "cap = cv2.VideoCapture(input_video_path)\n",
    "# Obtenir les propriétés de la vidéo\n",
    "frame_width = int(cap.get(cv2.CAP_PROP_FRAME_WIDTH))\n",
    "frame_height = int(cap.get(cv2.CAP_PROP_FRAME_HEIGHT))\n",
    "fps = int(cap.get(cv2.CAP_PROP_FPS))\n",
    "# Configurer la vidéo de sortie\n",
    "fourcc = cv2.VideoWriter_fourcc(*'mp4v')\n",
    "out = cv2.VideoWriter(output_video_path, fourcc, fps, (frame_width, frame_height))\n",
    "# Boucle pour lire chaque frame de la vidéo\n",
    "while cap.isOpened():\n",
    "    ret, frame = cap.read()\n",
    "    if not ret:\n",
    "        break\n",
    "    # Convertir l'image en tensor pour le modèle\n",
    "    image_tensor = F.to_tensor(frame).unsqueeze(0)\n",
    "    # Faire des prédictions\n",
    "    with torch.no_grad():\n",
    "        predictions = model(image_tensor)\n",
    "    # Extraire les boîtes, les scores et les labels\n",
    "    boxes = predictions[0]['boxes'].cpu().numpy()\n",
    "    scores = predictions[0]['scores'].cpu().numpy()\n",
    "    labels = predictions[0]['labels'].cpu().numpy()\n",
    "    # Dessiner les boîtes englobantes sur la frame\n",
    "    frame = draw_boxes(frame, boxes, labels, scores, threshold=0.5)\n",
    "    # Afficher ou sauvegarder la frame avec les détections\n",
    "    out.write(frame)\n",
    "    cv2.imshow('Video Detection', frame)\n",
    "    # Quitter la boucle si 'q' est pressé\n",
    "    if cv2.waitKey(1) & 0xFF == ord('q'):\n",
    "        break\n",
    "# Libérer les ressources\n",
    "cap.release()\n",
    "out.release()\n",
    "cv2.destroyAllWindows()"
   ]
  },
  {
   "cell_type": "markdown",
   "id": "bccad530",
   "metadata": {},
   "source": [
    "# **VGG19 Modele Backbone**"
   ]
  },
  {
   "cell_type": "code",
   "execution_count": 5,
   "id": "9f32c3f9-8a27-44f0-8972-12b6c47b76b5",
   "metadata": {},
   "outputs": [],
   "source": [
    "from torchvision.models.detection.rpn import AnchorGenerator\n",
    "from torchvision.models.detection import FasterRCNN\n",
    "from torchvision.models import vgg19"
   ]
  },
  {
   "cell_type": "code",
   "execution_count": 6,
   "id": "756b1efb-4263-424e-86a7-aa6b3eddaa11",
   "metadata": {},
   "outputs": [
    {
     "name": "stderr",
     "output_type": "stream",
     "text": [
      "c:\\Users\\ousse\\anaconda3\\Lib\\site-packages\\torchvision\\models\\_utils.py:208: UserWarning: The parameter 'pretrained' is deprecated since 0.13 and may be removed in the future, please use 'weights' instead.\n",
      "  warnings.warn(\n",
      "c:\\Users\\ousse\\anaconda3\\Lib\\site-packages\\torchvision\\models\\_utils.py:223: UserWarning: Arguments other than a weight enum or `None` for 'weights' are deprecated since 0.13 and may be removed in the future. The current behavior is equivalent to passing `weights=VGG19_Weights.IMAGENET1K_V1`. You can also use `weights=VGG19_Weights.DEFAULT` to get the most up-to-date weights.\n",
      "  warnings.warn(msg)\n"
     ]
    },
    {
     "name": "stdout",
     "output_type": "stream",
     "text": [
      "Modèle avec VGG19 comme backbone chargé avec succès.\n"
     ]
    }
   ],
   "source": [
    "# Charger le modèle VGG19 pré-entraîné\n",
    "vgg19_model = vgg19(pretrained=True)\n",
    "vgg19_features = vgg19_model.features\n",
    "# Ajouter une couche d'adaptation pour correspondre à Faster R-CNN\n",
    "vgg19_features.out_channels = 512  # Définir le nombre de canaux de sortie\n",
    "\n",
    "# Définir un générateur d’ancres adapté\n",
    "anchor_generator = AnchorGenerator(\n",
    "    sizes=((32, 64, 128, 256, 512),),  # Différentes tailles d'ancres\n",
    "    aspect_ratios=((0.5, 1.0, 2.0),)  # Ratios largeur/hauteur\n",
    ")\n",
    "\n",
    "# Créer le modèle Faster R-CNN avec le backbone modifié\n",
    "model = FasterRCNN(\n",
    "    backbone=vgg19_features,\n",
    "    num_classes=2,  \n",
    "    rpn_anchor_generator=anchor_generator\n",
    ")\n",
    "\n",
    "# Mode évaluation (désactive le dropout et la normalisation batch)\n",
    "model.eval()\n",
    "print(\"Modèle avec VGG19 comme backbone chargé avec succès.\")"
   ]
  },
  {
   "cell_type": "code",
   "execution_count": 7,
   "id": "57205906-2cf0-412d-beca-b3a2f3abd614",
   "metadata": {},
   "outputs": [],
   "source": [
    "# Charger la vidéo d'entrée\n",
    "input_video_path = './Video_test/test_04.mp4'\n",
    "output_video_path = 'output_test_04_vgg19.mp4'\n",
    "cap = cv2.VideoCapture(input_video_path)\n",
    "# Obtenir les propriétés de la vidéo\n",
    "frame_width = int(cap.get(cv2.CAP_PROP_FRAME_WIDTH))\n",
    "frame_height = int(cap.get(cv2.CAP_PROP_FRAME_HEIGHT))\n",
    "fps = int(cap.get(cv2.CAP_PROP_FPS))\n",
    "# Configurer la vidéo de sortie\n",
    "fourcc = cv2.VideoWriter_fourcc(*'mp4v')\n",
    "out = cv2.VideoWriter(output_video_path, fourcc, fps, (frame_width, frame_height))\n",
    "# Boucle pour lire chaque frame de la vidéo\n",
    "while cap.isOpened():\n",
    "    ret, frame = cap.read()\n",
    "    if not ret:\n",
    "        break\n",
    "    # Convertir l'image en tensor pour le modèle\n",
    "    image_tensor = F.to_tensor(frame).unsqueeze(0)\n",
    "    # Faire des prédictions\n",
    "    with torch.no_grad():\n",
    "        predictions = model(image_tensor)\n",
    "    # Extraire les boîtes, les scores et les labels\n",
    "    boxes = predictions[0]['boxes'].cpu().numpy()\n",
    "    scores = predictions[0]['scores'].cpu().numpy()\n",
    "    labels = predictions[0]['labels'].cpu().numpy()\n",
    "    # Dessiner les boîtes englobantes sur la frame\n",
    "    frame = draw_boxes(frame, boxes, labels, scores, threshold=0.4)\n",
    "    # Afficher ou sauvegarder la frame avec les détections\n",
    "    out.write(frame)\n",
    "    cv2.imshow('Video Detection', frame)\n",
    "    # Quitter la boucle si 'q' est pressé\n",
    "    if cv2.waitKey(1) & 0xFF == ord('q'):\n",
    "        break\n",
    "# Libérer les ressources\n",
    "cap.release()\n",
    "out.release()\n",
    "cv2.destroyAllWindows()"
   ]
  },
  {
   "cell_type": "markdown",
   "id": "442f10b8",
   "metadata": {},
   "source": [
    "# **EfficientNet Modele Backbone**"
   ]
  },
  {
   "cell_type": "code",
   "execution_count": 8,
   "id": "5a42a4cd-6946-4c6e-b2fb-05d59b3c2bd5",
   "metadata": {},
   "outputs": [
    {
     "name": "stdout",
     "output_type": "stream",
     "text": [
      "Modèle avec EfficientNet comme backbone chargé avec succès.\n"
     ]
    }
   ],
   "source": [
    "# Charger EfficientNet-B0 avec des poids pré-entraînés\n",
    "efficientnet = efficientnet_b0(weights='DEFAULT')\n",
    "backbone = efficientnet.features\n",
    "backbone.out_channels = 1280\n",
    "\n",
    "anchor_generator = AnchorGenerator(\n",
    "    sizes=((32, 64, 128, 256, 512),),  \n",
    "    aspect_ratios=((0.5, 1.0, 2.0),)  \n",
    ")\n",
    "\n",
    "# Construire le modèle Faster R-CNN\n",
    "model_EfficientNet = FasterRCNN(\n",
    "    backbone=backbone,\n",
    "    num_classes=2,  # Changez pour votre nombre réel de classes (+1 pour le fond)\n",
    "    rpn_anchor_generator=anchor_generator\n",
    ")\n",
    "model_EfficientNet.eval()\n",
    "print(\"Modèle avec EfficientNet comme backbone chargé avec succès.\")"
   ]
  },
  {
   "cell_type": "code",
   "execution_count": 9,
   "id": "1bcc383f-62c7-482a-8a67-b774404e424a",
   "metadata": {},
   "outputs": [],
   "source": [
    "# Charger la vidéo d'entrée\n",
    "input_video_path = './Video_test/test_04.mp4'\n",
    "output_video_path = 'output_test_04_EfficientNet.mp4'\n",
    "cap = cv2.VideoCapture(input_video_path)\n",
    "# Obtenir les propriétés de la vidéo\n",
    "frame_width = int(cap.get(cv2.CAP_PROP_FRAME_WIDTH))\n",
    "frame_height = int(cap.get(cv2.CAP_PROP_FRAME_HEIGHT))\n",
    "fps = int(cap.get(cv2.CAP_PROP_FPS))\n",
    "# Configurer la vidéo de sortie\n",
    "fourcc = cv2.VideoWriter_fourcc(*'mp4v')\n",
    "out = cv2.VideoWriter(output_video_path, fourcc, fps, (frame_width, frame_height))\n",
    "# Boucle pour lire chaque frame de la vidéo\n",
    "while cap.isOpened():\n",
    "    ret, frame = cap.read()\n",
    "    if not ret:\n",
    "        break\n",
    "    # Convertir l'image en tensor pour le modèle\n",
    "    image_tensor = F.to_tensor(frame).unsqueeze(0)\n",
    "    # Faire des prédictions\n",
    "    with torch.no_grad():\n",
    "        predictions = model_EfficientNet(image_tensor)\n",
    "    # Extraire les boîtes, les scores et les labels\n",
    "    boxes = predictions[0]['boxes'].cpu().numpy()\n",
    "    scores = predictions[0]['scores'].cpu().numpy()\n",
    "    labels = predictions[0]['labels'].cpu().numpy()\n",
    "    # Dessiner les boîtes englobantes sur la frame\n",
    "    frame = draw_boxes(frame, boxes, labels, scores, threshold=0.5)\n",
    "    # Afficher ou sauvegarder la frame avec les détections\n",
    "    out.write(frame)\n",
    "    cv2.imshow('Video Detection', frame)\n",
    "    # Quitter la boucle si 'q' est pressé\n",
    "    if cv2.waitKey(1) & 0xFF == ord('q'):\n",
    "        break\n",
    "# Libérer les ressources\n",
    "cap.release()\n",
    "out.release()\n",
    "cv2.destroyAllWindows()"
   ]
  }
 ],
 "metadata": {
  "kernelspec": {
   "display_name": "base",
   "language": "python",
   "name": "python3"
  },
  "language_info": {
   "codemirror_mode": {
    "name": "ipython",
    "version": 3
   },
   "file_extension": ".py",
   "mimetype": "text/x-python",
   "name": "python",
   "nbconvert_exporter": "python",
   "pygments_lexer": "ipython3",
   "version": "3.11.7"
  }
 },
 "nbformat": 4,
 "nbformat_minor": 5
}
